{
 "cells": [
  {
   "cell_type": "code",
   "execution_count": 1,
   "metadata": {
    "pycharm": {
     "name": "#%%\n"
    }
   },
   "outputs": [],
   "source": [
    "import torch\n",
    "from datasets import load_dataset, concatenate_datasets\n",
    "from datasets.utils.download_manager import GenerateMode\n",
    "from transformers import AutoTokenizer, DataCollatorForLanguageModeling\n",
    "from torch.utils.data import DataLoader\n",
    "from dataset import load_dataset_for_mlm, load_dataset_for_mlm_cl\n",
    "\n",
    "from config import Config\n",
    "config = Config()\n",
    "\n",
    "tokenizer = AutoTokenizer.from_pretrained(config.model_name)"
   ]
  },
  {
   "cell_type": "code",
   "execution_count": 360,
   "metadata": {
    "pycharm": {
     "name": "#%%\n"
    }
   },
   "outputs": [
    {
     "name": "stdout",
     "output_type": "stream",
     "text": [
      "Downloading and preparing dataset parallel/Parallel (download: Unknown size, generated: 4.21 MiB, post-processed: Unknown size, total: 4.21 MiB) to C:\\Users\\zgj\\.cache\\huggingface\\datasets\\parallel\\Parallel\\1.0.3\\de0f9c643a39b1abee67d839bf075dc8ae7adf51e2bf751a539fe900fb763d5e...\n"
     ]
    },
    {
     "data": {
      "text/plain": "0 examples [00:00, ? examples/s]",
      "application/vnd.jupyter.widget-view+json": {
       "version_major": 2,
       "version_minor": 0,
       "model_id": "8d5e12686541407d9e7e23dde08b2b7d"
      }
     },
     "metadata": {},
     "output_type": "display_data"
    },
    {
     "data": {
      "text/plain": "0 examples [00:00, ? examples/s]",
      "application/vnd.jupyter.widget-view+json": {
       "version_major": 2,
       "version_minor": 0,
       "model_id": "eeb21f76402f4f42a2e455c74d51e90b"
      }
     },
     "metadata": {},
     "output_type": "display_data"
    },
    {
     "data": {
      "text/plain": "0 examples [00:00, ? examples/s]",
      "application/vnd.jupyter.widget-view+json": {
       "version_major": 2,
       "version_minor": 0,
       "model_id": "82f27a5599b14267be549baeedcc0719"
      }
     },
     "metadata": {},
     "output_type": "display_data"
    },
    {
     "name": "stdout",
     "output_type": "stream",
     "text": [
      "Dataset parallel downloaded and prepared to C:\\Users\\zgj\\.cache\\huggingface\\datasets\\parallel\\Parallel\\1.0.3\\de0f9c643a39b1abee67d839bf075dc8ae7adf51e2bf751a539fe900fb763d5e. Subsequent calls will reuse this data.\n"
     ]
    },
    {
     "data": {
      "text/plain": "  0%|          | 0/3 [00:00<?, ?it/s]",
      "application/vnd.jupyter.widget-view+json": {
       "version_major": 2,
       "version_minor": 0,
       "model_id": "3785b14fbc254c21b4d64757e326fde1"
      }
     },
     "metadata": {},
     "output_type": "display_data"
    }
   ],
   "source": [
    "script = config.dataset_scripts[0]\n",
    "raw_dataset = load_dataset(script, name=\"Parallel\", download_mode=GenerateMode.FORCE_REDOWNLOAD)\n",
    "raw_dataset = raw_dataset['train'].shard(20, 0)"
   ]
  },
  {
   "cell_type": "code",
   "execution_count": 2,
   "outputs": [
    {
     "name": "stdout",
     "output_type": "stream",
     "text": [
      "Downloading and preparing dataset parallel/Parallel (download: Unknown size, generated: 4.21 MiB, post-processed: Unknown size, total: 4.21 MiB) to C:\\Users\\zgj\\.cache\\huggingface\\datasets\\parallel\\Parallel\\1.0.3\\de0f9c643a39b1abee67d839bf075dc8ae7adf51e2bf751a539fe900fb763d5e...\n"
     ]
    },
    {
     "data": {
      "text/plain": "0 examples [00:00, ? examples/s]",
      "application/vnd.jupyter.widget-view+json": {
       "version_major": 2,
       "version_minor": 0,
       "model_id": "4721f38272bb4e5d8bd53c8c421b2fd3"
      }
     },
     "metadata": {},
     "output_type": "display_data"
    },
    {
     "data": {
      "text/plain": "0 examples [00:00, ? examples/s]",
      "application/vnd.jupyter.widget-view+json": {
       "version_major": 2,
       "version_minor": 0,
       "model_id": "0cd90f988dc94a539822885d28fe027c"
      }
     },
     "metadata": {},
     "output_type": "display_data"
    },
    {
     "data": {
      "text/plain": "0 examples [00:00, ? examples/s]",
      "application/vnd.jupyter.widget-view+json": {
       "version_major": 2,
       "version_minor": 0,
       "model_id": "2cbdf86e6ce546068b40f6ed7cfc1a9a"
      }
     },
     "metadata": {},
     "output_type": "display_data"
    },
    {
     "name": "stdout",
     "output_type": "stream",
     "text": [
      "Dataset parallel downloaded and prepared to C:\\Users\\zgj\\.cache\\huggingface\\datasets\\parallel\\Parallel\\1.0.3\\de0f9c643a39b1abee67d839bf075dc8ae7adf51e2bf751a539fe900fb763d5e. Subsequent calls will reuse this data.\n"
     ]
    },
    {
     "data": {
      "text/plain": "  0%|          | 0/3 [00:00<?, ?it/s]",
      "application/vnd.jupyter.widget-view+json": {
       "version_major": 2,
       "version_minor": 0,
       "model_id": "86f4915955574c3e8b37d5ad02bd9852"
      }
     },
     "metadata": {},
     "output_type": "display_data"
    },
    {
     "data": {
      "text/plain": "0ex [00:00, ?ex/s]",
      "application/vnd.jupyter.widget-view+json": {
       "version_major": 2,
       "version_minor": 0,
       "model_id": "f91047359d5e470abccd9c7aee7d46ec"
      }
     },
     "metadata": {},
     "output_type": "display_data"
    },
    {
     "data": {
      "text/plain": "0ex [00:00, ?ex/s]",
      "application/vnd.jupyter.widget-view+json": {
       "version_major": 2,
       "version_minor": 0,
       "model_id": "f321a632a86b4f96ac62e304e854d0d3"
      }
     },
     "metadata": {},
     "output_type": "display_data"
    },
    {
     "data": {
      "text/plain": "0ex [00:00, ?ex/s]",
      "application/vnd.jupyter.widget-view+json": {
       "version_major": 2,
       "version_minor": 0,
       "model_id": "044edcefd7ff4ce8b9e1deae009c53e0"
      }
     },
     "metadata": {},
     "output_type": "display_data"
    },
    {
     "data": {
      "text/plain": "  0%|          | 0/22 [00:00<?, ?ba/s]",
      "application/vnd.jupyter.widget-view+json": {
       "version_major": 2,
       "version_minor": 0,
       "model_id": "ac1275211f404a17b3333286f153ab83"
      }
     },
     "metadata": {},
     "output_type": "display_data"
    },
    {
     "data": {
      "text/plain": "  0%|          | 0/7 [00:00<?, ?ba/s]",
      "application/vnd.jupyter.widget-view+json": {
       "version_major": 2,
       "version_minor": 0,
       "model_id": "a869731ca8b346c08c1c3165236e6b11"
      }
     },
     "metadata": {},
     "output_type": "display_data"
    },
    {
     "data": {
      "text/plain": "  0%|          | 0/4 [00:00<?, ?ba/s]",
      "application/vnd.jupyter.widget-view+json": {
       "version_major": 2,
       "version_minor": 0,
       "model_id": "5194dcf311e145f8b7443b19f0012fc0"
      }
     },
     "metadata": {},
     "output_type": "display_data"
    },
    {
     "name": "stdout",
     "output_type": "stream",
     "text": [
      "DatasetDict({\n",
      "    train: Dataset({\n",
      "        features: ['input_ids1', 'token_type_ids1', 'attention_mask1', 'input_ids2', 'token_type_ids2', 'attention_mask2', 'input_ids'],\n",
      "        num_rows: 1046\n",
      "    })\n",
      "    validation: Dataset({\n",
      "        features: ['input_ids1', 'token_type_ids1', 'attention_mask1', 'input_ids2', 'token_type_ids2', 'attention_mask2', 'input_ids'],\n",
      "        num_rows: 297\n",
      "    })\n",
      "    test: Dataset({\n",
      "        features: ['input_ids1', 'token_type_ids1', 'attention_mask1', 'input_ids2', 'token_type_ids2', 'attention_mask2', 'input_ids'],\n",
      "        num_rows: 151\n",
      "    })\n",
      "})\n"
     ]
    },
    {
     "data": {
      "text/plain": "{'input_ids1': tensor([[6821, 4696, 3221,  ...,    0,    0,    0],\n        [ 101, 1726, 2495,  ..., 7348, 3667, 4638],\n        [ 671, 4905, 2607,  ..., 4638, 6817,  103],\n        ...,\n        [8168,  119, 8515,  ...,  103, 6206,  103],\n        [3198, 6158, 3123,  ..., 5101,  762, 2773],\n        [1921, 5307, 2382,  ...,  749,  102,  101]]), 'token_type_ids1': tensor([[0, 0, 0,  ..., 0, 0, 0],\n        [0, 0, 0,  ..., 0, 0, 0],\n        [0, 0, 0,  ..., 0, 0, 0],\n        ...,\n        [0, 0, 0,  ..., 0, 0, 0],\n        [0, 0, 0,  ..., 0, 0, 0],\n        [0, 0, 0,  ..., 0, 0, 0]]), 'attention_mask1': tensor([[1, 1, 1,  ..., 0, 0, 0],\n        [1, 1, 1,  ..., 1, 1, 1],\n        [1, 1, 1,  ..., 1, 1, 1],\n        ...,\n        [1, 1, 1,  ..., 1, 1, 1],\n        [1, 1, 1,  ..., 1, 1, 1],\n        [1, 1, 1,  ..., 1, 1, 1]]), 'input_ids2': tensor([[1450, 1639, 4696,  ..., 8024,  852,  913],\n        [ 101, 1726, 2495,  ..., 7348, 3667,  103],\n        [4905, 2607, 1405,  ...,  802,  103, 6880],\n        ...,\n        [8168,  119, 8515,  ..., 2553, 6206, 3635],\n        [ 103,  103, 3123,  ..., 5101,  765, 2782],\n        [ 791, 8688, 5195,  ..., 1568,  102,  101]]), 'token_type_ids2': tensor([[0, 0, 0,  ..., 0, 0, 0],\n        [0, 0, 0,  ..., 0, 0, 0],\n        [0, 0, 0,  ..., 0, 0, 0],\n        ...,\n        [0, 0, 0,  ..., 0, 0, 0],\n        [0, 0, 0,  ..., 0, 0, 0],\n        [0, 0, 0,  ..., 0, 0, 0]]), 'attention_mask2': tensor([[1, 1, 1,  ..., 1, 1, 1],\n        [1, 1, 1,  ..., 1, 1, 1],\n        [1, 1, 1,  ..., 1, 1, 1],\n        ...,\n        [1, 1, 1,  ..., 1, 1, 1],\n        [1, 1, 1,  ..., 1, 1, 1],\n        [1, 1, 1,  ..., 1, 1, 1]]), 'attention_mask': tensor([[1, 1, 1,  ..., 1, 1, 1],\n        [1, 1, 1,  ..., 1, 1, 1],\n        [1, 1, 1,  ..., 1, 1, 1],\n        ...,\n        [1, 1, 1,  ..., 1, 1, 1],\n        [1, 1, 1,  ..., 1, 1, 1],\n        [1, 1, 1,  ..., 1, 1, 1]]), 'labels1': tensor([[-100, -100, -100,  ..., -100, -100, -100],\n        [-100, -100, -100,  ..., -100, -100, -100],\n        [-100, -100, -100,  ..., -100, -100, 6589],\n        ...,\n        [-100, -100, -100,  ..., 2553, -100, 3635],\n        [-100, -100, -100,  ..., -100, -100, -100],\n        [-100, -100, -100,  ..., -100, -100, -100]]), 'labels2': tensor([[-100, -100, -100,  ..., -100, -100, -100],\n        [-100, -100, -100,  ..., -100, -100, 1646],\n        [-100, -100, -100,  ..., -100, 1646, -100],\n        ...,\n        [-100, -100, -100,  ..., -100, -100, -100],\n        [2157, 6158, -100,  ..., -100, -100, -100],\n        [-100, 3189, -100,  ..., -100, -100, -100]])}"
     },
     "execution_count": 2,
     "metadata": {},
     "output_type": "execute_result"
    }
   ],
   "source": [
    "dataset = load_dataset_for_mlm_cl(config)\n",
    "for batch in dataset.train_dataloader:\n",
    "    break\n",
    "batch"
   ],
   "metadata": {
    "collapsed": false,
    "pycharm": {
     "name": "#%%\n"
    }
   }
  },
  {
   "cell_type": "code",
   "execution_count": null,
   "outputs": [],
   "source": [],
   "metadata": {
    "collapsed": false,
    "pycharm": {
     "name": "#%%\n"
    }
   }
  },
  {
   "cell_type": "code",
   "execution_count": null,
   "outputs": [],
   "source": [],
   "metadata": {
    "collapsed": false,
    "pycharm": {
     "name": "#%%\n"
    }
   }
  },
  {
   "cell_type": "code",
   "execution_count": 91,
   "outputs": [],
   "source": [],
   "metadata": {
    "collapsed": false,
    "pycharm": {
     "name": "#%%\n"
    }
   }
  },
  {
   "cell_type": "code",
   "execution_count": null,
   "outputs": [],
   "source": [],
   "metadata": {
    "collapsed": false,
    "pycharm": {
     "name": "#%%\n"
    }
   }
  },
  {
   "cell_type": "code",
   "execution_count": null,
   "outputs": [],
   "source": [],
   "metadata": {
    "collapsed": false,
    "pycharm": {
     "name": "#%%\n"
    }
   }
  },
  {
   "cell_type": "code",
   "execution_count": null,
   "outputs": [],
   "source": [],
   "metadata": {
    "collapsed": false,
    "pycharm": {
     "name": "#%%\n"
    }
   }
  },
  {
   "cell_type": "code",
   "execution_count": null,
   "outputs": [],
   "source": [],
   "metadata": {
    "collapsed": false,
    "pycharm": {
     "name": "#%%\n"
    }
   }
  },
  {
   "cell_type": "code",
   "execution_count": 92,
   "outputs": [
    {
     "data": {
      "text/plain": "('[CLS] 嗯 嗯 ， 是 的 ， 我 [MASK] 知 道 ， 我 认 为 这 是 一 个 非 常 有 趣 chan ， 嗯 ， 讨 论 ， 你 jim 道 ， 而 且 肯 定 有 ， 呃 ， 关 于 它 的 很 多 正 反 两 方 面 [MASK] 意 见 。 [SEP] [PAD] [PAD] [PAD] [PAD] [PAD] [PAD] [PAD] [PAD] [PAD] [PAD] [PAD] [PAD] [PAD] [PAD] [PAD] [PAD] [PAD] [PAD] [PAD] [PAD] [PAD] [PAD] [PAD] [PAD] [PAD] [PAD] [PAD] [PAD] [PAD] [PAD] [PAD] [PAD] [PAD] [PAD] [PAD] [PAD] [PAD] [PAD] [PAD] [PAD] [PAD] [PAD] [PAD] [PAD] [PAD] [PAD] [PAD] [PAD] [PAD] [PAD] [PAD] [PAD] [PAD] [PAD] [PAD] [PAD] [PAD] [PAD] [PAD] [PAD] [PAD] [PAD] [PAD] [PAD] [PAD] [PAD] [PAD] [PAD] [PAD] [PAD] [PAD] [PAD] [PAD] [PAD] [PAD] [PAD] [PAD] [PAD]',\n '[CLS] 系 統 幾 耐 一 次 [MASK] 新 [MASK] [MASK] [MASK] 唄 [SEP] [PAD] [PAD] [PAD] [PAD] [PAD] [PAD] [PAD] [PAD] [PAD] [PAD] [PAD] [PAD] [PAD] [PAD] [PAD] [PAD] [PAD] [PAD] [PAD] [PAD] [PAD] [PAD] [PAD] [PAD] [PAD] [PAD] [PAD] [PAD] [PAD] [PAD] [PAD] [PAD] [PAD] [PAD] [PAD] [PAD] [PAD] [PAD] [PAD] [PAD] [PAD] [PAD] [PAD] [PAD] [PAD] [PAD] [PAD] [PAD] [PAD] [PAD] [PAD] [PAD] [PAD] [PAD] [PAD] [PAD] [PAD] [PAD] [PAD] [PAD] [PAD] [PAD] [PAD] [PAD] [PAD] [PAD] [PAD] [PAD] [PAD] [PAD] [PAD] [PAD] [PAD] [PAD] [PAD] [PAD] [PAD] [PAD] [PAD] [PAD] [PAD] [PAD] [PAD] [PAD] [PAD] [PAD] [PAD] [PAD] [PAD] [PAD] [PAD] [PAD] [PAD] [PAD] [PAD] [PAD] [PAD] [PAD] [PAD] [PAD] [PAD] [PAD] [PAD] [PAD] [PAD] [PAD] [PAD] [PAD] [PAD] [PAD] [PAD] [PAD] [PAD] [PAD] [PAD] [PAD] [PAD]')"
     },
     "execution_count": 92,
     "metadata": {},
     "output_type": "execute_result"
    }
   ],
   "source": [],
   "metadata": {
    "collapsed": false,
    "pycharm": {
     "name": "#%%\n"
    }
   }
  },
  {
   "cell_type": "code",
   "execution_count": 3,
   "metadata": {
    "pycharm": {
     "name": "#%%\n"
    }
   },
   "outputs": [
    {
     "data": {
      "text/plain": [
       "[('afqmc', 60000, '0.6990740740740741'),\n",
       " ('afqmc', 120000, '0.6990740740740741'),\n",
       " ('afqmc', 180000, '0.699537037037037'),\n",
       " ('afqmc', 240000, '0.7004629629629628'),\n",
       " ('afqmc', 300000, '0.700462962962963'),\n",
       " ('afqmc', 360000, '0.7004629629629628'),\n",
       " ('afqmc', 420000, '0.7018518518518518'),\n",
       " ('afqmc', 480000, '0.6990740740740741'),\n",
       " ('afqmc', 540000, '0.700925925925926'),\n",
       " ('afqmc', 600000, '0.6990740740740741'),\n",
       " ('ciron', 60000, '0.5222222222222221'),\n",
       " ('ciron', 120000, '0.5266666666666666'),\n",
       " ('ciron', 180000, '0.5'),\n",
       " ('ciron', 240000, '0.5066666666666666'),\n",
       " ('ciron', 300000, '0.5044444444444445'),\n",
       " ('ciron', 360000, '0.49777777777777776'),\n",
       " ('ciron', 420000, '0.49777777777777776'),\n",
       " ('ciron', 480000, '0.49777777777777776'),\n",
       " ('ciron', 540000, '0.5088888888888888'),\n",
       " ('ciron', 600000, '0.5199999999999999'),\n",
       " ('cmnli', 60000, '0.5590361445783133'),\n",
       " ('cmnli', 120000, '0.5397590361445783'),\n",
       " ('cmnli', 180000, '0.5537349397590361'),\n",
       " ('cmnli', 240000, '0.5460240963855422'),\n",
       " ('cmnli', 300000, '0.5559839357429719'),\n",
       " ('cmnli', 360000, '0.5596787148594377'),\n",
       " ('cmnli', 420000, '0.5563052208835341'),\n",
       " ('cmnli', 480000, '0.5685140562248996'),\n",
       " ('cmnli', 540000, '0.57285140562249'),\n",
       " ('cmnli', 600000, '0.5746184738955822'),\n",
       " ('discusshk', 60000, '0.8526999999999999'),\n",
       " ('discusshk', 120000, '0.8542000000000002'),\n",
       " ('discusshk', 180000, '0.8488'),\n",
       " ('discusshk', 240000, '0.8538499999999999'),\n",
       " ('discusshk', 300000, '0.8547'),\n",
       " ('discusshk', 360000, '0.8548'),\n",
       " ('discusshk', 420000, '0.8577999999999999'),\n",
       " ('discusshk', 480000, '0.8593499999999998'),\n",
       " ('discusshk', 540000, '0.8581000000000001'),\n",
       " ('discusshk', 600000, '0.8565000000000002'),\n",
       " ('lihkgv2', 60000, '0.7238'),\n",
       " ('lihkgv2', 120000, '0.7272'),\n",
       " ('lihkgv2', 180000, '0.7235999999999999'),\n",
       " ('lihkgv2', 240000, '0.7294'),\n",
       " ('lihkgv2', 300000, '0.726'),\n",
       " ('lihkgv2', 360000, '0.7268'),\n",
       " ('lihkgv2', 420000, '0.7292'),\n",
       " ('lihkgv2', 480000, '0.7254'),\n",
       " ('lihkgv2', 540000, '0.736'),\n",
       " ('lihkgv2', 600000, '0.737'),\n",
       " ('openrice', 60000, '0.544559784698193'),\n",
       " ('openrice', 120000, '0.5452133794694347'),\n",
       " ('openrice', 180000, '0.5462514417531719'),\n",
       " ('openrice', 240000, '0.5462129950019223'),\n",
       " ('openrice', 300000, '0.5469434832756632'),\n",
       " ('openrice', 360000, '0.5535947712418301'),\n",
       " ('openrice', 420000, '0.5519415609381008'),\n",
       " ('openrice', 480000, '0.5507112648981161'),\n",
       " ('openrice', 540000, '0.5512110726643599'),\n",
       " ('openrice', 600000, '0.5531718569780855')]"
      ]
     },
     "execution_count": 3,
     "metadata": {},
     "output_type": "execute_result"
    }
   ],
   "source": [
    "with open(\"out.txt\", 'r') as r:\n",
    "    lines = [l.strip().split() for l in r.readlines()]\n",
    "    lines = [(lines[i][0].split(\"_\")[0], int(lines[i][0].split(\"_\")[-1]), lines[i][1]) for i in range(len(lines))]\n",
    "\n",
    "lines = sorted(lines, key=lambda x: x[1])\n",
    "sorted(lines, key=lambda x: x[0])"
   ]
  }
 ],
 "metadata": {
  "kernelspec": {
   "display_name": "torch",
   "language": "python",
   "name": "torch"
  },
  "language_info": {
   "codemirror_mode": {
    "name": "ipython",
    "version": 3
   },
   "file_extension": ".py",
   "mimetype": "text/x-python",
   "name": "python",
   "nbconvert_exporter": "python",
   "pygments_lexer": "ipython3",
   "version": "3.7.11"
  }
 },
 "nbformat": 4,
 "nbformat_minor": 1
}